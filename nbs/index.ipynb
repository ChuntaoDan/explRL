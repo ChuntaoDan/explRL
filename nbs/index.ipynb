{
 "cells": [
  {
   "cell_type": "code",
   "execution_count": null,
   "metadata": {},
   "outputs": [],
   "source": [
    "#| hide\n",
    "from explRL.core import *"
   ]
  },
  {
   "cell_type": "markdown",
   "metadata": {},
   "source": [
    "# explRL\n",
    "\n",
    "> This package builds brain-inspired AI agents that simultaneously explore novel environments and map their value landscapes. It integrates autonomous navigation, unsupervised environment mapping and reinforcement learning coupled with internal drives. The starting code is ported and modified from MATLAB scripts (Ann M. Hermundstad) described in this publication: A neural circuit architecture for rapid learning in goal-directed navigation. Chuntao Dan, Brad K. Hulse, Ramya Kappagantula, Vivek Jayaraman, Ann M. Hermundstad. https://doi.org/10.1016/j.neuron.2024.04.036. (open access)"
   ]
  },
  {
   "cell_type": "markdown",
   "metadata": {},
   "source": []
  },
  {
   "cell_type": "markdown",
   "metadata": {},
   "source": [
    "## Install"
   ]
  },
  {
   "cell_type": "markdown",
   "metadata": {},
   "source": [
    "```sh\n",
    "pip install explRL\n",
    "```"
   ]
  },
  {
   "cell_type": "markdown",
   "metadata": {},
   "source": [
    "## How to use"
   ]
  },
  {
   "cell_type": "markdown",
   "metadata": {},
   "source": [
    "Install the package as described above. The core.py script is used to interact with the package from the command line. Depending on the input flags for the agent and the environment, the script loads a graphic environment and an agent that explores in it.\n",
    "\n",
    "For example:"
   ]
  },
  {
   "cell_type": "code",
   "execution_count": null,
   "metadata": {},
   "outputs": [],
   "source": []
  }
 ],
 "metadata": {
  "kernelspec": {
   "display_name": "python3",
   "language": "python",
   "name": "python3"
  }
 },
 "nbformat": 4,
 "nbformat_minor": 4
}

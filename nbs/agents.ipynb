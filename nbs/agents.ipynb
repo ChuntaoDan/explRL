{
 "cells": [
  {
   "cell_type": "markdown",
   "metadata": {},
   "source": [
    "# agents\n",
    "\n",
    "> This module specifies Policy, RL and Agent Classes."
   ]
  },
  {
   "cell_type": "code",
   "execution_count": null,
   "metadata": {},
   "outputs": [],
   "source": [
    "#| default_exp agents"
   ]
  },
  {
   "cell_type": "code",
   "execution_count": null,
   "metadata": {},
   "outputs": [],
   "source": [
    "#| hide\n",
    "from nbdev.showdoc import *\n",
    "%load_ext autoreload\n",
    "%autoreload 2"
   ]
  },
  {
   "cell_type": "code",
   "execution_count": null,
   "metadata": {},
   "outputs": [],
   "source": [
    "#| export\n",
    "class Policy():\n",
    "    '''This Policy Class specifies a general architecture. '''\n",
    "    def __init__(self):\n",
    "        self.heading = None\n",
    "        self.actions = None\n",
    "        self.act = None\n",
    "        \n",
    "    def sampleAction(self):\n",
    "        pass\n",
    "        return self.act"
   ]
  },
  {
   "cell_type": "code",
   "execution_count": null,
   "metadata": {},
   "outputs": [],
   "source": [
    "#| export\n",
    "class RL():\n",
    "    '''This RL Class performs reinforcement learning: after taking an action, update parameters \n",
    "    based on feedback from the environment.\n",
    "    '''\n",
    "    def __init__(self):\n",
    "        self.policy = None\n",
    "        self.actions = None\n",
    "        \n",
    "    def chooseAction(self):\n",
    "        pass\n",
    "        return self.act\n",
    "    \n",
    "    def updateParams(self):\n",
    "        pass\n",
    "        return self.params"
   ]
  },
  {
   "cell_type": "code",
   "execution_count": null,
   "metadata": {},
   "outputs": [],
   "source": [
    "#| export\n",
    "class Agent:\n",
    "    '''This Agent Class specifies agents using a defined policy and reinforcement learning algorithm. '''\n",
    "    def __init__(self):\n",
    "        self.heading = None\n",
    "        self.actions = None\n",
    "        self.act = None\n",
    "        \n",
    "    def chooseAction(self):\n",
    "        pass\n",
    "        return self.act"
   ]
  },
  {
   "cell_type": "code",
   "execution_count": null,
   "metadata": {},
   "outputs": [],
   "source": [
    "#| hide\n",
    "import nbdev; nbdev.nbdev_export()"
   ]
  },
  {
   "cell_type": "code",
   "execution_count": null,
   "metadata": {},
   "outputs": [],
   "source": []
  }
 ],
 "metadata": {
  "kernelspec": {
   "display_name": "python3",
   "language": "python",
   "name": "python3"
  }
 },
 "nbformat": 4,
 "nbformat_minor": 4
}
